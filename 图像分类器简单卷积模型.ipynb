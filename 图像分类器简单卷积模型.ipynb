{
 "cells": [
  {
   "cell_type": "code",
   "execution_count": 1,
   "id": "8bfc7c6a",
   "metadata": {},
   "outputs": [],
   "source": [
    "import torch\n",
    "import torchvision\n",
    "import torchvision.transforms as transforms"
   ]
  },
  {
   "cell_type": "markdown",
   "id": "047b1bb3",
   "metadata": {},
   "source": [
    "  - shuffle = true 表示顺序会随机被打断\n",
    "  - numworkers = 2 表示双线程进行"
   ]
  },
  {
   "cell_type": "code",
   "execution_count": 2,
   "id": "9d3f56c5",
   "metadata": {},
   "outputs": [
    {
     "name": "stdout",
     "output_type": "stream",
     "text": [
      "Files already downloaded and verified\n",
      "Files already downloaded and verified\n"
     ]
    }
   ],
   "source": [
    "transform = transforms.Compose(\n",
    "[\n",
    "    transforms.ToTensor(),\n",
    "    transforms.Normalize((0.5,0.5,0.5),(0.5,0.5,0.5))\n",
    "])\n",
    "trainset = torchvision.datasets.CIFAR10(root=\"./data\",train=True,download=True,transform=transform)\n",
    "trainloader = torch.utils.data.DataLoader(trainset,batch_size=4,shuffle=True,num_workers=2)\n",
    "testset = torchvision.datasets.CIFAR10(root=\"./data\",train=False,download=True,transform=transform)\n",
    "testloader = torch.utils.data.DataLoader(testset,batch_size=4,shuffle=True,num_workers=2)\n",
    "\n",
    "classes = (\"plane\",\"car\",\"bird\",\"cat\",\"deer\",\"dog\",\"frog\",\"horse\",\"ship\",\"truck\")\n"
   ]
  },
  {
   "cell_type": "code",
   "execution_count": 3,
   "id": "22dd69ca",
   "metadata": {},
   "outputs": [
    {
     "data": {
      "image/png": "[encoded data removed]",
      "text/plain": [
       "<Figure size 640x480 with 1 Axes>"
      ]
     },
     "metadata": {},
     "output_type": "display_data"
    },
    {
     "name": "stdout",
     "output_type": "stream",
     "text": [
      "plane  cat shiphorse\n",
      "<torch.utils.data.dataloader.DataLoader object at 0x0000025F4ECF4700>\n"
     ]
    }
   ],
   "source": [
    "# 导入画图包和numpy\n",
    "import matplotlib.pyplot as plt \n",
    "import numpy as np\n",
    "\n",
    "# 构建展示图片的函数\n",
    "\n",
    "def imshow(img):\n",
    "        img = img / 2 + 0.5\n",
    "        nping = img.numpy()\n",
    "        plt.imshow(np.transpose(nping,(1,2,0)))\n",
    "        plt.show()\n",
    "\n",
    "#从数据迭代器中读取一张图片\n",
    "dataiter = iter(trainloader)\n",
    "images,labels = next(dataiter)\n",
    "\n",
    "#展示图片\n",
    "imshow(torchvision.utils.make_grid(images))\n",
    "\n",
    "#打印标签\n",
    "print(\"\".join(\"%5s\" % classes[labels[j]] for j in range(4)))\n",
    "print(trainloader)"
   ]
  },
  {
   "cell_type": "markdown",
   "id": "15fddcf8",
   "metadata": {},
   "source": [
    " # 接下来定义卷积神经网络"
   ]
  },
  {
   "cell_type": "code",
   "execution_count": 8,
   "id": "e306df1a",
   "metadata": {},
   "outputs": [],
   "source": [
    "import torch.nn as nn\n",
    "import torch.nn.functional as F\n",
    "\n",
    "\n",
    "class Net(nn.Module):\n",
    "    def __init__(self):\n",
    "        super(Net,self).__init__()\n",
    "        self.conv1=nn.Conv2d(3,6,5)\n",
    "        self.pool = nn.MaxPool2d(2,2)\n",
    "        self.conv2 = nn.Conv2d(6,16,5)\n",
    "        self.fc1 = nn.Linear(16*5*5,120)\n",
    "        self.fc2 = nn.Linear(120,84)\n",
    "        self.fc3 = nn.Linear(84,10)  ##最后这个全连接层的输出维度是有依据的，因为是分类器模型（10种类别），所以要将输出维度转化为10\n",
    "    def forward(self,x):\n",
    "        x = self.pool(F.relu(self.conv1(x)))\n",
    "        x = self.pool(F.relu(self.conv2(x)))\n",
    "        ##以下一行代码是转换x的维度，目的是为了贴合后面的全连接\n",
    "        x = x.view(-1,16*5*5)\n",
    "        x = F.relu(self.fc1(x))\n",
    "        x = F.relu(self.fc2(x))\n",
    "        x = self.fc3(x)\n",
    "        return x\n",
    "net = Net()    "
   ]
  },
  {
   "cell_type": "markdown",
   "id": "34ac08ee",
   "metadata": {},
   "source": [
    " # 接下来定义损失函数\n",
    "  - 采用交叉熵损失函数和随机梯度下降优化器"
   ]
  },
  {
   "cell_type": "code",
   "execution_count": 9,
   "id": "ef1842df",
   "metadata": {},
   "outputs": [],
   "source": [
    "import torch.optim as optim\n",
    "\n",
    "criterion = nn.CrossEntropyLoss()\n",
    "optimizer = optim.SGD(net.parameters(),lr= 0.001 , momentum= 0.9)"
   ]
  },
  {
   "cell_type": "markdown",
   "id": "13500319",
   "metadata": {},
   "source": [
    " # 在训练集上训练模型\n",
    "  - 采用基于梯度下降的优化算法，都需要很多个轮次的迭代训练"
   ]
  },
  {
   "cell_type": "code",
   "execution_count": 18,
   "id": "91387948",
   "metadata": {},
   "outputs": [
    {
     "name": "stdout",
     "output_type": "stream",
     "text": [
      "[1,  100] loss: 1.355\n",
      "[1,  200] loss: 1.333\n",
      "[1,  300] loss: 1.379\n",
      "[1,  400] loss: 1.306\n",
      "[1,  500] loss: 1.328\n",
      "[1,  600] loss: 1.333\n",
      "[1,  700] loss: 1.353\n",
      "[1,  800] loss: 1.331\n",
      "[1,  900] loss: 1.429\n",
      "[1, 1000] loss: 1.331\n",
      "[1, 1100] loss: 1.305\n",
      "[1, 1200] loss: 1.325\n",
      "[1, 1300] loss: 1.293\n",
      "[1, 1400] loss: 1.345\n",
      "[1, 1500] loss: 1.357\n",
      "[1, 1600] loss: 1.339\n",
      "[1, 1700] loss: 1.353\n",
      "[1, 1800] loss: 1.395\n",
      "[1, 1900] loss: 1.351\n",
      "[1, 2000] loss: 1.366\n",
      "[1, 2100] loss: 1.383\n",
      "[1, 2200] loss: 1.228\n",
      "[1, 2300] loss: 1.366\n",
      "[1, 2400] loss: 1.389\n",
      "[1, 2500] loss: 1.430\n",
      "[1, 2600] loss: 1.325\n",
      "[1, 2700] loss: 1.376\n",
      "[1, 2800] loss: 1.308\n",
      "[1, 2900] loss: 1.342\n",
      "[1, 3000] loss: 1.408\n",
      "[1, 3100] loss: 1.331\n",
      "[1, 3200] loss: 1.379\n",
      "[1, 3300] loss: 1.278\n",
      "[1, 3400] loss: 1.403\n",
      "[1, 3500] loss: 1.396\n",
      "[1, 3600] loss: 1.394\n",
      "[1, 3700] loss: 1.389\n",
      "[1, 3800] loss: 1.382\n",
      "[1, 3900] loss: 1.291\n",
      "[1, 4000] loss: 1.287\n",
      "[1, 4100] loss: 1.364\n",
      "[1, 4200] loss: 1.376\n",
      "[1, 4300] loss: 1.379\n",
      "[1, 4400] loss: 1.372\n",
      "[1, 4500] loss: 1.390\n",
      "[1, 4600] loss: 1.423\n",
      "[1, 4700] loss: 1.371\n",
      "[1, 4800] loss: 1.374\n",
      "[1, 4900] loss: 1.300\n",
      "[1, 5000] loss: 1.332\n",
      "[1, 5100] loss: 1.476\n",
      "[1, 5200] loss: 1.407\n",
      "[1, 5300] loss: 1.359\n",
      "[1, 5400] loss: 1.318\n",
      "[1, 5500] loss: 1.316\n",
      "[1, 5600] loss: 1.324\n",
      "[1, 5700] loss: 1.426\n",
      "[1, 5800] loss: 1.329\n",
      "[1, 5900] loss: 1.339\n",
      "[1, 6000] loss: 1.451\n",
      "[1, 6100] loss: 1.401\n",
      "[1, 6200] loss: 1.403\n",
      "[1, 6300] loss: 1.387\n",
      "[1, 6400] loss: 1.359\n",
      "[1, 6500] loss: 1.381\n",
      "[1, 6600] loss: 1.381\n",
      "[1, 6700] loss: 1.407\n",
      "[1, 6800] loss: 1.321\n",
      "[1, 6900] loss: 1.440\n",
      "[1, 7000] loss: 1.490\n",
      "[1, 7100] loss: 1.419\n",
      "[1, 7200] loss: 1.315\n",
      "[1, 7300] loss: 1.399\n",
      "[1, 7400] loss: 1.300\n",
      "[1, 7500] loss: 1.409\n",
      "[1, 7600] loss: 1.368\n",
      "[1, 7700] loss: 1.340\n",
      "[1, 7800] loss: 1.362\n",
      "[1, 7900] loss: 1.359\n",
      "[1, 8000] loss: 1.369\n",
      "[1, 8100] loss: 1.355\n",
      "[1, 8200] loss: 1.369\n",
      "[1, 8300] loss: 1.401\n",
      "[1, 8400] loss: 1.400\n",
      "[1, 8500] loss: 1.362\n",
      "[1, 8600] loss: 1.251\n",
      "[1, 8700] loss: 1.368\n",
      "[1, 8800] loss: 1.309\n",
      "[1, 8900] loss: 1.409\n",
      "[1, 9000] loss: 1.396\n",
      "[1, 9100] loss: 1.424\n",
      "[1, 9200] loss: 1.413\n",
      "[1, 9300] loss: 1.259\n",
      "[1, 9400] loss: 1.373\n",
      "[1, 9500] loss: 1.423\n",
      "[1, 9600] loss: 1.341\n",
      "[1, 9700] loss: 1.339\n",
      "[1, 9800] loss: 1.454\n",
      "[1, 9900] loss: 1.418\n",
      "[1,10000] loss: 1.377\n",
      "[1,10100] loss: 1.379\n",
      "[1,10200] loss: 1.343\n",
      "[1,10300] loss: 1.287\n",
      "[1,10400] loss: 1.431\n",
      "[1,10500] loss: 1.455\n",
      "[1,10600] loss: 1.381\n",
      "[1,10700] loss: 1.374\n",
      "[1,10800] loss: 1.344\n",
      "[1,10900] loss: 1.356\n",
      "[1,11000] loss: 1.292\n",
      "[1,11100] loss: 1.314\n",
      "[1,11200] loss: 1.450\n",
      "[1,11300] loss: 1.348\n",
      "[1,11400] loss: 1.432\n",
      "[1,11500] loss: 1.413\n",
      "[1,11600] loss: 1.329\n",
      "[1,11700] loss: 1.322\n",
      "[1,11800] loss: 1.444\n",
      "[1,11900] loss: 1.382\n",
      "[1,12000] loss: 1.312\n",
      "[1,12100] loss: 1.299\n",
      "[1,12200] loss: 1.355\n",
      "[1,12300] loss: 1.288\n",
      "[1,12400] loss: 1.365\n",
      "[1,12500] loss: 1.307\n"
     ]
    }
   ],
   "source": [
    "#for epoch in range(2):  ##遍历整体数据两遍，\n",
    "#     running_loss = 0.0\n",
    "#     for i ,data in enumerate(trainloader,0):\n",
    "#         ##data 中包含输入图片张量inputs，标签张量labels\n",
    "#         inputs,labels = data\n",
    "        \n",
    "#         optimizer.zero_grad()\n",
    "        \n",
    "#         outputs = net(inputs)\n",
    "        \n",
    "#         loss = criterion(outputs,labels)\n",
    "        \n",
    "#         loss.backward()\n",
    "#         optimizer.step()\n",
    "        \n",
    "#         ##打印轮次和损失值\n",
    "#         running_loss += loss.item()  ##将损失值进行累加起来\n",
    "#         if (i+1) % 2000 == 0: ##写这行代码的目的是每2000次进行一次打印输出损失值\n",
    "#             print(\"[%d,%5d] loss: %.3d\"%\n",
    "#                  (epoch+1,i+1,running_loss/2000))\n",
    "#             running_loss = 0.0\n",
    "\n",
    "# print(\"Finished Training\")\n",
    "running_loss = 0.0  \n",
    "print_freq = 100\n",
    "for i, (inputs, labels) in enumerate(trainloader):  \n",
    "    # Forward pass  \n",
    "    outputs = net(inputs)  \n",
    "    loss = criterion(outputs, labels)  \n",
    "  \n",
    "    # Backward pass and optimization  \n",
    "    optimizer.zero_grad()  \n",
    "    loss.backward()  \n",
    "    optimizer.step()  \n",
    "  \n",
    "    # Update running loss  \n",
    "    running_loss += loss.item()  \n",
    "  \n",
    "    # Print loss every 'print_freq' batches  \n",
    "    if (i+1) % print_freq == 0:  \n",
    "        print(\"[%d,%5d] loss: %.3f\"%(epoch+1, i+1, running_loss/print_freq))  \n",
    "        running_loss = 0.0"
   ]
  },
  {
   "cell_type": "markdown",
   "id": "21f8f929",
   "metadata": {},
   "source": [
    " - 对模型进行保存"
   ]
  },
  {
   "cell_type": "code",
   "execution_count": 11,
   "id": "a3885fe7",
   "metadata": {},
   "outputs": [],
   "source": [
    "PATH = \"./cifar_net.pth\"\n",
    "\n",
    "torch.save(net.state_dict(),PATH)"
   ]
  },
  {
   "cell_type": "markdown",
   "id": "c2434f1b",
   "metadata": {},
   "source": [
    " # 在测试集上测试模型\n",
    "  - 在测试集上显示若干图片"
   ]
  },
  {
   "cell_type": "code",
   "execution_count": 16,
   "id": "111d1d7e",
   "metadata": {},
   "outputs": [
    {
     "data": {
      "image/png": "[encoded data removed]",
      "text/plain": [
       "<Figure size 640x480 with 1 Axes>"
      ]
     },
     "metadata": {},
     "output_type": "display_data"
    },
    {
     "name": "stdout",
     "output_type": "stream",
     "text": [
      "GroundTruth: horse deer deer bird\n"
     ]
    }
   ],
   "source": [
    "dataiter = iter(trainloader)\n",
    "images,labels = next(dataiter)\n",
    "\n",
    "#展示图片\n",
    "imshow(torchvision.utils.make_grid(images))\n",
    "\n",
    "#打印标签\n",
    "print(\"GroundTruth:\",\"\".join(\"%5s\" % classes[labels[j]] for j in range(4)))\n"
   ]
  },
  {
   "cell_type": "markdown",
   "id": "12948bd3",
   "metadata": {},
   "source": [
    " - 加载模型并且对测试图片进行预测"
   ]
  },
  {
   "cell_type": "code",
   "execution_count": 17,
   "id": "e3ca01d9",
   "metadata": {},
   "outputs": [
    {
     "name": "stdout",
     "output_type": "stream",
     "text": [
      "predicted:  deerhorse deer  dog\n"
     ]
    }
   ],
   "source": [
    "net = Net() #实例化对象\n",
    "\n",
    "net.load_state_dict(torch.load(PATH)) ##将训练好的模型加载进来\n",
    "\n",
    "outputs = net(images)\n",
    "\n",
    "_, predicted = torch.max(outputs,1) ##等于是在忽略第一个返回值（即最大值），只保留第二个返回值（即最大值对应的索引）\n",
    "\n",
    "print(\"predicted:\",\"\".join(\"%5s\" % classes[predicted[j]] for j in range(4)))\n"
   ]
  },
  {
   "cell_type": "markdown",
   "id": "158b3279",
   "metadata": {},
   "source": [
    " - j接下来看一下在全部测试集上的表现"
   ]
  },
  {
   "cell_type": "code",
   "execution_count": 21,
   "id": "e956e51c",
   "metadata": {},
   "outputs": [
    {
     "name": "stdout",
     "output_type": "stream",
     "text": [
      "Accuracy  : 49 %\n"
     ]
    }
   ],
   "source": [
    "correct = 0\n",
    "total = 0\n",
    "with torch.no_grad():\n",
    "    for data in testloader:\n",
    "        images ,labels = data\n",
    "        outputs = net(images)\n",
    "        _, predicted = torch.max(outputs,1)\n",
    "        total +=labels.size(0) ##获取第一个维度的大小\n",
    "        correct += (predicted == labels).sum().item()\n",
    "\n",
    "print(\"Accuracy  : %d %%\" % (100 * correct / total))"
   ]
  },
  {
   "cell_type": "markdown",
   "id": "bfb4bcb3",
   "metadata": {},
   "source": [
    " # 将模型转化到GPU上进行运算\n",
    "  - 首先定义设备，如果CUDA是可用的，则定义成GPU，否则定义成CPU"
   ]
  },
  {
   "cell_type": "code",
   "execution_count": 22,
   "id": "9e82c20f",
   "metadata": {},
   "outputs": [
    {
     "name": "stdout",
     "output_type": "stream",
     "text": [
      "cuda:0\n"
     ]
    }
   ],
   "source": [
    "device = torch.device(\"cuda:0\" if torch.cuda.is_available() else \"cpu\")\n",
    "print(device)"
   ]
  },
  {
   "cell_type": "code",
   "execution_count": 23,
   "id": "656a89b0",
   "metadata": {},
   "outputs": [],
   "source": [
    "##将数据移动到GPU上\n",
    "net.to(device)\n",
    "\n",
    "inputs , labels = data[0].to(device),data[1].to(device)"
   ]
  },
  {
   "cell_type": "code",
   "execution_count": null,
   "id": "9e001d54",
   "metadata": {},
   "outputs": [],
   "source": []
  },
  {
   "cell_type": "code",
   "execution_count": null,
   "id": "81476713",
   "metadata": {},
   "outputs": [],
   "source": []
  }
 ],
 "metadata": {
  "kernelspec": {
   "display_name": "Python 3 (ipykernel)",
   "language": "python",
   "name": "python3"
  },
  "language_info": {
   "codemirror_mode": {
    "name": "ipython",
    "version": 3
   },
   "file_extension": ".py",
   "mimetype": "text/x-python",
   "name": "python",
   "nbconvert_exporter": "python",
   "pygments_lexer": "ipython3",
   "version": "3.8.17"
  }
 },
 "nbformat": 4,
 "nbformat_minor": 5
}
